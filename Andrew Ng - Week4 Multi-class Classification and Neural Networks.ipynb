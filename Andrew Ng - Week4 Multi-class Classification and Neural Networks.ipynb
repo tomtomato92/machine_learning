{
 "cells": [
  {
   "cell_type": "code",
   "execution_count": 1,
   "metadata": {},
   "outputs": [],
   "source": [
    "#libraries to use for this exercise (please fun this cell first):\n",
    "import numpy as np\n",
    "from matplotlib import pyplot as plt\n",
    "import scipy.optimize as opt\n",
    "import scipy.io\n",
    "import matplotlib.cm as cm"
   ]
  },
  {
   "cell_type": "code",
   "execution_count": 2,
   "metadata": {},
   "outputs": [],
   "source": [
    "#Load the .mat data using scipy.io, which will be a dictionary datatype.\n",
    "data_dict = scipy.io.loadmat('ex3/ex3data1.mat')\n",
    "X=data_dict['X']\n",
    "y=data_dict['y']\n",
    "X=np.matrix(X)\n",
    "y=np.matrix(y)"
   ]
  },
  {
   "cell_type": "code",
   "execution_count": 3,
   "metadata": {},
   "outputs": [
    {
     "name": "stdout",
     "output_type": "stream",
     "text": [
      "AxesImage(54,36;334.8x217.44)\n"
     ]
    },
    {
     "data": {
      "image/png": "[encoded data removed]",
      "text/plain": [
       "<Figure size 432x288 with 1 Axes>"
      ]
     },
     "metadata": {
      "needs_background": "light"
     },
     "output_type": "display_data"
    }
   ],
   "source": [
    "#plt.imsave('filename.png', np.array(X[2000:2100,:]).reshape(200,200), cmap=cm.gray)\n",
    "print (plt.imshow(np.array(X[130,:]).reshape(20,20),cmap=cm.gray))"
   ]
  },
  {
   "cell_type": "code",
   "execution_count": 4,
   "metadata": {},
   "outputs": [],
   "source": [
    "#define a regularized cost function\n",
    "#define sigmoid function that trannsforms the data into a range of 0-1.\n",
    "def sigmoid(z):\n",
    "    g = np.zeros(np.shape(z));\n",
    "    g = 1/(1+np.exp(-z));\n",
    "    return g\n",
    "#define a regularized cost function\n",
    "#Note: X and y are matrix and theta is a array data type.\n",
    "def lrCostFunction(theta, X, y, lambd):\n",
    "    m = len(y)\n",
    "    z = np.transpose(np.dot(X,theta))\n",
    "    h = sigmoid(z)\n",
    "    J = np.sum(np.dot((-y.T),np.log(h))-np.dot((1-y).T,np.log(1-h)))/m + np.matrix(theta[1:])*np.transpose(np.matrix(theta[1:]))*lambd/(2*m)\n",
    "    grad = np.zeros(np.size(theta))\n",
    "    g =np.dot(X.T,(h-y))/m\n",
    "    grad[0] = g[0]\n",
    "    gs=np.dot(X.T,(h-y))/m+np.matrix(theta*lambd/m).T\n",
    "    grad[1:] = gs[1:].flatten()\n",
    "    return J, grad"
   ]
  },
  {
   "cell_type": "code",
   "execution_count": 5,
   "metadata": {},
   "outputs": [],
   "source": [
    "#test the cost function with a set of test data and test theta (Expected cost: 2.534819)\n",
    "#theta_t = np.array([-2, -1, 1, 2])\n",
    "#X_column1 = np.ones((5,1), dtype=int)\n",
    "#X = []\n",
    "#for i in range (1,16):\n",
    "#    X.append([i/10])\n",
    "#X_t = np.c_[X_column1, np.matrix(X).reshape(3,5).T]\n",
    "#print (X_t)\n",
    "#y_t = np.matrix(np.transpose([[1,0,1,0,1]]))\n",
    "#print (y_t)\n",
    "#lambd_t = 3\n",
    "#print (np.shape(X_t))\n",
    "#print (np.shape(y_t))\n",
    "#print (np.shape(theta_t))\n",
    "#print (type(X_t))\n",
    "#print (type(y_t))\n",
    "#print (type(theta_t))\n",
    "#[J, grad] = lrCostFunction(theta_t, X_t, y_t, lambd_t)\n",
    "#print (J, grad)"
   ]
  },
  {
   "cell_type": "code",
   "execution_count": 6,
   "metadata": {},
   "outputs": [],
   "source": [
    "#STOP"
   ]
  },
  {
   "cell_type": "code",
   "execution_count": 7,
   "metadata": {},
   "outputs": [],
   "source": [
    "#Define a one vs all function for multi class issues\n",
    "def oneVsAll(X, y, num_labels, lambd):\n",
    "    [m, n] = np.shape(X)\n",
    "    all_theta = []\n",
    "    #Note: the X is without bias in the input, so add the bias first\n",
    "    additional_coulmn = np.ones((m,1))\n",
    "    X = np.append(additional_coulmn,X,axis=1)\n",
    "    for i in range (1,num_labels+1):\n",
    "        y_bool = []\n",
    "        for j in y:\n",
    "            if j==[i]:\n",
    "                value=1\n",
    "            else:\n",
    "                value=0\n",
    "            y_bool.append([value])\n",
    "        y_bool = np.matrix(y_bool)\n",
    "        #Set Initial theta\n",
    "        initial_theta = np.zeros((n + 1, 1))\n",
    "        result = opt.fmin_tnc(func=lrCostFunction, x0=np.array(initial_theta), args=(X, y_bool, lambd))\n",
    "        all_theta.append(result[0])\n",
    "    return np.array(all_theta)"
   ]
  },
  {
   "cell_type": "code",
   "execution_count": 9,
   "metadata": {},
   "outputs": [],
   "source": [
    "#Define a predict function to find the accuracy\n",
    "def predictOneVsAll(all_theta, X):\n",
    "    [m, n] = np.shape(X)\n",
    "    additional_coulmn = np.ones((m,1))\n",
    "    X = np.append(additional_coulmn,X,axis=1)\n",
    "    predict = X*all_theta.T\n",
    "    predict = sigmoid(predict)\n",
    "    outputall = []\n",
    "    for i in range(0,m):\n",
    "        list = np.array(predict[i])[0]\n",
    "        a = np.where(list == max(list))\n",
    "        b = int(a[0])\n",
    "        b = b+1\n",
    "        if b==10:\n",
    "            b=0\n",
    "        outputall.append(b)\n",
    "    result = np.matrix(outputall).T\n",
    "    return result"
   ]
  },
  {
   "cell_type": "code",
   "execution_count": 10,
   "metadata": {},
   "outputs": [],
   "source": [
    "#give some estimate argument and store the output in 'result'\n",
    "num_labels = 10\n",
    "lambd =0.1\n",
    "result = oneVsAll(X, y, num_labels, lambd)"
   ]
  },
  {
   "cell_type": "code",
   "execution_count": 11,
   "metadata": {},
   "outputs": [],
   "source": [
    "#print (np.shape(result))\n",
    "#print (np.shape(y))\n",
    "#print (np.shape(X))\n",
    "#print (type(y))\n",
    "#print (type(X))\n",
    "#print (type(result))\n",
    "#print (np.shape(result.T))"
   ]
  },
  {
   "cell_type": "code",
   "execution_count": 16,
   "metadata": {},
   "outputs": [
    {
     "name": "stdout",
     "output_type": "stream",
     "text": [
      "<class 'numpy.matrix'>\n"
     ]
    }
   ],
   "source": [
    "predict = predictOneVsAll(result, X)\n",
    "#print (predict)\n",
    "#print (type(predictOneVsAll(result, X)))"
   ]
  },
  {
   "cell_type": "code",
   "execution_count": 24,
   "metadata": {},
   "outputs": [],
   "source": [
    "#define a funnction to find the accuracy of the logistic algorithm with an input of a matrix 'predict'\n",
    "def accuracy(predict):\n",
    "    count = 0\n",
    "    m=np.shape(predict)[0]\n",
    "    for i in range(0,m):\n",
    "        if predict[i]==y[i]:\n",
    "            count += 1\n",
    "    accracy = count/m\n",
    "    print (accracy)"
   ]
  },
  {
   "cell_type": "code",
   "execution_count": 26,
   "metadata": {},
   "outputs": [
    {
     "name": "stdout",
     "output_type": "stream",
     "text": [
      "0.8648\n"
     ]
    }
   ],
   "source": [
    "accuracy(predict)"
   ]
  },
  {
   "cell_type": "code",
   "execution_count": 27,
   "metadata": {},
   "outputs": [],
   "source": [
    "#STOP"
   ]
  },
  {
   "cell_type": "code",
   "execution_count": 28,
   "metadata": {},
   "outputs": [
    {
     "name": "stdout",
     "output_type": "stream",
     "text": [
      "<class 'numpy.ndarray'>\n"
     ]
    }
   ],
   "source": [
    "#Load the weights\n",
    "weights = scipy.io.loadmat('ex3/ex3weights.mat')\n",
    "Theta1=weights['Theta1']\n",
    "Theta2=weights['Theta2']\n",
    "print (type(Theta1))"
   ]
  },
  {
   "cell_type": "code",
   "execution_count": 29,
   "metadata": {},
   "outputs": [],
   "source": [
    "#define a predict function for multi layers\n",
    "def predict(Theta1, Theta2, X):\n",
    "    [m, n] = np.shape(X)\n",
    "    additional_coulmn = np.ones((m,1))\n",
    "    X = np.append(additional_coulmn,X,axis=1)\n",
    "    Layer2 = X*Theta1.T\n",
    "    Layer2 = sigmoid(Layer2)\n",
    "    additional_coulmn = np.ones((m,1))\n",
    "    Layer2 = np.append(additional_coulmn,Layer2,axis=1)\n",
    "    Layer3 = Layer2*Theta2.T\n",
    "    predict = sigmoid(Layer3)\n",
    "    outputall = []\n",
    "    for i in range(0,m):\n",
    "        list = np.array(predict[i])[0]\n",
    "        a = np.where(list == max(list))\n",
    "        b = int(a[0])\n",
    "        b = b+1\n",
    "        if b==10:\n",
    "            b=0\n",
    "        outputall.append(b)\n",
    "    result = np.matrix(outputall).T\n",
    "    return result"
   ]
  },
  {
   "cell_type": "code",
   "execution_count": 30,
   "metadata": {},
   "outputs": [],
   "source": [
    "#calculate the result accordinng to the given theta(s)\n",
    "multi = predict(Theta1, Theta2, X)"
   ]
  },
  {
   "cell_type": "code",
   "execution_count": 31,
   "metadata": {},
   "outputs": [
    {
     "name": "stdout",
     "output_type": "stream",
     "text": [
      "0.876\n"
     ]
    }
   ],
   "source": [
    "#calculate the accuracy of the multi-layer network\n",
    "accuracy(multi)"
   ]
  }
 ],
 "metadata": {
  "kernelspec": {
   "display_name": "Python 3",
   "language": "python",
   "name": "python3"
  },
  "language_info": {
   "codemirror_mode": {
    "name": "ipython",
    "version": 3
   },
   "file_extension": ".py",
   "mimetype": "text/x-python",
   "name": "python",
   "nbconvert_exporter": "python",
   "pygments_lexer": "ipython3",
   "version": "3.8.3"
  }
 },
 "nbformat": 4,
 "nbformat_minor": 4
}
