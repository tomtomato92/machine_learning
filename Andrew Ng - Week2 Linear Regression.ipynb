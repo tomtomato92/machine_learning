{
 "cells": [
  {
   "cell_type": "code",
   "execution_count": 46,
   "metadata": {},
   "outputs": [],
   "source": [
    "#libraries to use for this exercise (run this cell first):\n",
    "import numpy as np\n",
    "from matplotlib import pyplot as plt"
   ]
  },
  {
   "cell_type": "code",
   "execution_count": 14,
   "metadata": {},
   "outputs": [],
   "source": [
    "#load the data from ex1, which should be stored in a matrix. \n",
    "#Here I'm using np.matrix datatype, where each row is am array and the whole matrix is an array of rows. \n",
    "#Note: the first column is indexed at 0, just like every other indexing in Python, which is different to Matlab.\n",
    "file = open(\"ex1/ex1data1.txt\")\n",
    "fileread=file.readlines()\n",
    "#print (fileread)\n",
    "#print (type(fileread))\n",
    "#print (len(fileread))\n",
    "data=[]\n",
    "for line in fileread:\n",
    "    data.append(line.rstrip(\"\\n\").split(','))\n",
    "dt=[]\n",
    "for line in data:\n",
    "    line = [float(x) for x in line]\n",
    "    #print (line)\n",
    "    dt.append(line)\n",
    "#print (dt)\n",
    "dt=np.matrix(dt)\n",
    "#print (dt)"
   ]
  },
  {
   "cell_type": "code",
   "execution_count": 9,
   "metadata": {},
   "outputs": [
    {
     "data": {
      "image/png": "[encoded data removed]",
      "text/plain": [
       "<Figure size 432x288 with 1 Axes>"
      ]
     },
     "metadata": {
      "needs_background": "light"
     },
     "output_type": "display_data"
    }
   ],
   "source": [
    "#Visualize the data using Matplotlib and decide if a linear regression woule be appropriate.\n",
    "plt.plot(dt[:, 0], dt[:, 1], '*')\n",
    "plt.xlabel(\"Population of City in 10,000s\")\n",
    "plt.ylabel(\"Profit in $10,000s\")\n",
    "plt.show()"
   ]
  },
  {
   "cell_type": "code",
   "execution_count": 10,
   "metadata": {},
   "outputs": [],
   "source": [
    "#Define the cost function.\n",
    "def cost(X, y, theta):\n",
    "    m = len(y)\n",
    "    Z=X*theta-y\n",
    "    J=np.transpose(Z)*Z\n",
    "    J=J/(2*m)\n",
    "    return J[0]"
   ]
  },
  {
   "cell_type": "code",
   "execution_count": 15,
   "metadata": {},
   "outputs": [],
   "source": [
    "#Initialize the X and y in this problem by adding bias to X.\n",
    "X=dt[:, 0]\n",
    "X0 = np.ones((len(X),1))\n",
    "Xnew = np.hstack((X0,X))\n",
    "y=dt[:, 1]"
   ]
  },
  {
   "cell_type": "code",
   "execution_count": 16,
   "metadata": {},
   "outputs": [
    {
     "name": "stdout",
     "output_type": "stream",
     "text": [
      "[[54.24245508]]\n"
     ]
    }
   ],
   "source": [
    "#Initialize the proposed theta for testing if the cost function works.\n",
    "theta=[[-1],\n",
    "      [2]]\n",
    "print (cost(Xnew, y, theta))"
   ]
  },
  {
   "cell_type": "code",
   "execution_count": 19,
   "metadata": {},
   "outputs": [],
   "source": [
    "#Define the gradient descent function, which updates theta to find the optimal\n",
    "#The optimal theta is defined to find the minimum cost, so we also store the respective cost for each iteration.\n",
    "#Note: in this function, J_history is also a matrix\n",
    "def gradientDescent(X, y, theta, alpha, num_iters):\n",
    "    m = len(y)\n",
    "    J_history = np.zeros((num_iters, 1))\n",
    "    i=0\n",
    "    while i < num_iters:\n",
    "        theta = np.transpose((np.transpose(theta) - (np.transpose(X*theta-y))*X*alpha/m))\n",
    "        a = cost(X, y, theta)\n",
    "        J_history[i] = a\n",
    "        i+=1\n",
    "    return theta, J_history"
   ]
  },
  {
   "cell_type": "code",
   "execution_count": 20,
   "metadata": {},
   "outputs": [],
   "source": [
    "#Initialize the theta to be 0 for all features.\n",
    "#assign desired numbers to iteration and alpha, which will be used by the Gradient Descent function.\n",
    "theta = np.zeros((2, 1))\n",
    "iterations = 1500\n",
    "alpha = 0.01"
   ]
  },
  {
   "cell_type": "code",
   "execution_count": 25,
   "metadata": {},
   "outputs": [
    {
     "name": "stdout",
     "output_type": "stream",
     "text": [
      "Theta computed from gradient descent: [[-3.89459687]] [[1.1929147]]\n"
     ]
    }
   ],
   "source": [
    "#Try computing the theta optimal and see if the function works.\n",
    "theta = gradientDescent(Xnew, y, theta, alpha, iterations)[0]\n",
    "print ('Theta computed from gradient descent:',theta[0],theta[1])"
   ]
  },
  {
   "cell_type": "code",
   "execution_count": 22,
   "metadata": {
    "scrolled": false
   },
   "outputs": [],
   "source": [
    "#Try storing the cost of each iteration in J_history.\n",
    "#Create a matrix to store a sequence of iteration numbers concretely from 1 to the max number of iterations\n",
    "J_history = gradientDescent(Xnew, y, theta, 0.01, iterations)[1]\n",
    "ite=np.zeros((iterations, 1))\n",
    "i=1\n",
    "while i<=iterations:\n",
    "    ite[i-1]=i\n",
    "    i+=1\n",
    "findoptimal = np.hstack((J_history,ite))"
   ]
  },
  {
   "cell_type": "code",
   "execution_count": 23,
   "metadata": {},
   "outputs": [
    {
     "data": {
      "image/png": "[encoded data removed]",
      "text/plain": [
       "<Figure size 432x288 with 1 Axes>"
      ]
     },
     "metadata": {
      "needs_background": "light"
     },
     "output_type": "display_data"
    }
   ],
   "source": [
    "#plot the cost against iteration times\n",
    "plt.plot(findoptimal[:, 1], findoptimal[:, 0])\n",
    "plt.show()"
   ]
  },
  {
   "cell_type": "code",
   "execution_count": 26,
   "metadata": {},
   "outputs": [],
   "source": [
    "#Define a multi feature linear regression cost funtion, which is just basically the same as one feature.\n",
    "def costMulti(X, y, theta):\n",
    "    m = len(y)\n",
    "    Z=X*theta-y\n",
    "    J=np.transpose(Z)*Z\n",
    "    J=J/(2*m)\n",
    "    return J[0]"
   ]
  },
  {
   "cell_type": "code",
   "execution_count": 27,
   "metadata": {},
   "outputs": [],
   "source": [
    "#Define a multi feature linear regression gradient descent funtion, which is just basically the same as one feature.\n",
    "def gradientDescentMulti(X, y, theta, alpha, num_iters):\n",
    "    m = len(y)\n",
    "    J_history = np.zeros((num_iters, 1))\n",
    "    i=0\n",
    "    while i < num_iters:\n",
    "        theta = np.transpose((np.transpose(theta) - (np.transpose(X*theta-y))*X*alpha/m))\n",
    "        a = cost(X, y, theta)\n",
    "        J_history[i] = a\n",
    "        i+=1\n",
    "    return theta, J_history"
   ]
  },
  {
   "cell_type": "code",
   "execution_count": 29,
   "metadata": {},
   "outputs": [],
   "source": [
    "#Load the second data set for multi feature linear regression exercise.\n",
    "file2 = open(\"ex1/ex1data2.txt\")\n",
    "fileread2=file2.readlines()\n",
    "data2=[]\n",
    "for line in fileread2:\n",
    "    data2.append(line.rstrip(\"\\n\").split(','))\n",
    "dt2=[]\n",
    "for line in data2:\n",
    "    line = [float(x) for x in line]\n",
    "    #print (line)\n",
    "    dt2.append(line)\n",
    "#print (dt)\n",
    "dt2=np.matrix(dt2)\n",
    "#print (dt2)"
   ]
  },
  {
   "cell_type": "code",
   "execution_count": 32,
   "metadata": {},
   "outputs": [],
   "source": [
    "#add bias to X\n",
    "X=dt2[:, 0:2]\n",
    "X0 = np.ones((len(X),1))\n",
    "Xnew = np.hstack((X0,X))\n",
    "y=dt2[:, 2]"
   ]
  },
  {
   "cell_type": "code",
   "execution_count": 37,
   "metadata": {},
   "outputs": [],
   "source": [
    "#initialize the initial theta to all 0s.\n",
    "theta = []\n",
    "for i in range(3):\n",
    "    theta.append([0])\n",
    "#print(theta)"
   ]
  },
  {
   "cell_type": "code",
   "execution_count": 34,
   "metadata": {},
   "outputs": [],
   "source": [
    "#try out different alpha and find the optimal one\n",
    "J_history = gradientDescentMulti(Xnew, y, theta, 0.0000000018, 400)[1]\n",
    "ite=np.zeros((400, 1))\n",
    "i=1\n",
    "while i<=400:\n",
    "    ite[i-1]=i\n",
    "    i+=1\n",
    "findoptimal = np.hstack((J_history,ite))"
   ]
  },
  {
   "cell_type": "code",
   "execution_count": 35,
   "metadata": {},
   "outputs": [
    {
     "data": {
      "image/png": "[encoded data removed]",
      "text/plain": [
       "<Figure size 432x288 with 1 Axes>"
      ]
     },
     "metadata": {
      "needs_background": "light"
     },
     "output_type": "display_data"
    }
   ],
   "source": [
    "#plot the cost against iterations\n",
    "plt.plot(findoptimal[:, 1], findoptimal[:, 0])\n",
    "plt.show()"
   ]
  },
  {
   "cell_type": "code",
   "execution_count": 39,
   "metadata": {},
   "outputs": [
    {
     "name": "stdout",
     "output_type": "stream",
     "text": [
      "Theta computed from gradient descent: [[0.0759347]] [[159.52757954]] [[0.24236007]]\n"
     ]
    }
   ],
   "source": [
    "#Compute the optimal theta by using the optimal alpha and number of iterations.\n",
    "theta = np.zeros((3, 1))\n",
    "alpha = 0.0000000018\n",
    "theta = gradientDescent(Xnew, y, theta, alpha, 400)[0]\n",
    "print ('Theta computed from gradient descent:',theta[0],theta[1],theta[2])"
   ]
  },
  {
   "cell_type": "code",
   "execution_count": 40,
   "metadata": {},
   "outputs": [],
   "source": [
    "#Define a normalisation function\n",
    "def normalise(X):\n",
    "    mu = np.mean(X, axis=0)\n",
    "    sigma = np.std(X, axis=0)\n",
    "    X_norm = (X-mu)/sigma\n",
    "    return X_norm"
   ]
  },
  {
   "cell_type": "code",
   "execution_count": 41,
   "metadata": {},
   "outputs": [],
   "source": [
    "#Try normalising X and y\n",
    "X_norm=normalise(X)\n",
    "X0 = np.ones((len(X),1))\n",
    "Xnew2 = np.hstack((X0,X_norm))\n",
    "y_norm=normalise(y)"
   ]
  },
  {
   "cell_type": "code",
   "execution_count": 43,
   "metadata": {},
   "outputs": [],
   "source": [
    "#do the same after nnormalisation\n",
    "J_history = gradientDescentMulti(Xnew2, y_norm, theta, 0.01, 400)[1]\n",
    "ite=np.zeros((400, 1))\n",
    "i=1\n",
    "while i<=400:\n",
    "    ite[i-1]=i\n",
    "    i+=1\n",
    "findoptimal = np.hstack((J_history,ite))"
   ]
  },
  {
   "cell_type": "code",
   "execution_count": 44,
   "metadata": {},
   "outputs": [
    {
     "data": {
      "image/png": "[encoded data removed]",
      "text/plain": [
       "<Figure size 432x288 with 1 Axes>"
      ]
     },
     "metadata": {
      "needs_background": "light"
     },
     "output_type": "display_data"
    }
   ],
   "source": [
    "#plot the cost after normalisation\n",
    "plt.plot(findoptimal[:, 1], findoptimal[:, 0])\n",
    "plt.show()"
   ]
  },
  {
   "cell_type": "code",
   "execution_count": 45,
   "metadata": {},
   "outputs": [
    {
     "name": "stdout",
     "output_type": "stream",
     "text": [
      "Theta computed from gradient descent: [[-1.10851045e-16]] [[0.80363308]] [[0.02641023]]\n"
     ]
    }
   ],
   "source": [
    "#find the optimal theta\n",
    "theta = np.zeros((3, 1))\n",
    "alpha = 0.02\n",
    "theta = gradientDescent(Xnew2, y_norm, theta, 0.01, 400)[0]\n",
    "print ('Theta computed from gradient descent:',theta[0],theta[1],theta[2])"
   ]
  },
  {
   "cell_type": "code",
   "execution_count": null,
   "metadata": {},
   "outputs": [],
   "source": []
  }
 ],
 "metadata": {
  "kernelspec": {
   "display_name": "Python 3",
   "language": "python",
   "name": "python3"
  },
  "language_info": {
   "codemirror_mode": {
    "name": "ipython",
    "version": 3
   },
   "file_extension": ".py",
   "mimetype": "text/x-python",
   "name": "python",
   "nbconvert_exporter": "python",
   "pygments_lexer": "ipython3",
   "version": "3.8.3"
  }
 },
 "nbformat": 4,
 "nbformat_minor": 4
}
