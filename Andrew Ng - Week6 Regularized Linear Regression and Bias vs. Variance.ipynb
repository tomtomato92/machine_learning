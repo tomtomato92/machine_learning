{
 "cells": [
  {
   "cell_type": "code",
   "execution_count": 1,
   "metadata": {},
   "outputs": [],
   "source": [
    "#libraries to use for this exercise (please fun this cell first):\n",
    "import numpy as np\n",
    "from matplotlib import pyplot as plt\n",
    "import scipy.optimize as opt\n",
    "import scipy.io\n",
    "import matplotlib.cm as cm"
   ]
  },
  {
   "cell_type": "code",
   "execution_count": 2,
   "metadata": {},
   "outputs": [],
   "source": [
    "#Load the .mat data using scipy.io, which will be a dictionary datatype.\n",
    "data_dict = scipy.io.loadmat('ex5/ex5data1.mat')\n",
    "X=data_dict['X']\n",
    "y=data_dict['y']\n",
    "X=np.matrix(X)\n",
    "y=np.matrix(y)\n",
    "Xval=data_dict['Xval']\n",
    "yval=data_dict['yval']\n",
    "Xval=np.matrix(Xval)\n",
    "yval=np.matrix(yval)\n",
    "Xtest=data_dict['Xtest']\n",
    "ytest=data_dict['ytest']\n",
    "Xtest=np.matrix(Xtest)\n",
    "ytest=np.matrix(ytest)"
   ]
  },
  {
   "cell_type": "code",
   "execution_count": 3,
   "metadata": {},
   "outputs": [
    {
     "data": {
      "image/png": "[encoded data removed]",
      "text/plain": [
       "<Figure size 432x288 with 1 Axes>"
      ]
     },
     "metadata": {
      "needs_background": "light"
     },
     "output_type": "display_data"
    }
   ],
   "source": [
    "#Visualize the data using Matplotlib and decide if a linear regression woule be appropriate.\n",
    "plt.plot(X, y, 'x')\n",
    "plt.xlabel(\"Change in water level (x)\")\n",
    "plt.ylabel(\"Water flowing out of the dam (y)\")\n",
    "plt.show()"
   ]
  },
  {
   "cell_type": "code",
   "execution_count": 4,
   "metadata": {},
   "outputs": [],
   "source": [
    "#define a regularised linear regression function\n",
    "#Theta is a row matrix\n",
    "def linearRegCostFunction(theta, X, y, lambd):\n",
    "    m=np.shape(X)[0]\n",
    "    grad = np.matrix(np.zeros((np.shape(theta))))\n",
    "    theta = np.matrix(theta)\n",
    "    J0=X*theta.T\n",
    "    J0=J0-y\n",
    "    J1=sum(np.multiply((J0),(J0)))\n",
    "    J2=lambd*sum(np.multiply((theta[0,1:]),(theta[0,1:])))\n",
    "    J=(J1+J2)/(2*m)\n",
    "    return np.array(J)[0][0]"
   ]
  },
  {
   "cell_type": "code",
   "execution_count": 5,
   "metadata": {},
   "outputs": [],
   "source": [
    "def Gradient(theta, X, y, lambd):\n",
    "    m=np.shape(X)[0]\n",
    "    grad = np.matrix(np.zeros((np.shape(theta))))\n",
    "    theta = np.matrix(theta)\n",
    "    grad[0,0] =(1/m)*np.sum((X*theta.T-y).T*X[:,0])\n",
    "    grad[0,1:]=(1/m)*(X*theta.T-y).T*X[:,1:]+(lambd/m)*theta[:, 1:]\n",
    "    return grad"
   ]
  },
  {
   "cell_type": "code",
   "execution_count": 6,
   "metadata": {},
   "outputs": [],
   "source": [
    "#test\n",
    "theta = [1, 1]\n",
    "m = np.shape(X)[0]\n",
    "additional_coulmn = np.ones((m,1))\n",
    "X = np.append(additional_coulmn,X,axis=1)\n",
    "lambd = 0"
   ]
  },
  {
   "cell_type": "code",
   "execution_count": 7,
   "metadata": {},
   "outputs": [
    {
     "data": {
      "text/plain": [
       "303.9515255535976"
      ]
     },
     "execution_count": 7,
     "metadata": {},
     "output_type": "execute_result"
    }
   ],
   "source": [
    "linearRegCostFunction(theta, X, y, lambd)"
   ]
  },
  {
   "cell_type": "code",
   "execution_count": 8,
   "metadata": {},
   "outputs": [],
   "source": [
    "#didn't figure out why this chunk does not produce the correct result. Please do not run this cell.\n",
    "#m = np.shape(X)[0]\n",
    "#grad = np.zeros((np.shape(theta)))\n",
    "#theta = np.matrix(theta)\n",
    "#J=(sum(np.multiply((X*theta.T-y),(X*theta.T-y)))+lambd*sum(np.multiply((theta[0,1:]),(theta[0,1:]))))/(2*m)\n",
    "#J0=X*(theta.T)\n",
    "#J0=J0-y\n",
    "#J0"
   ]
  },
  {
   "cell_type": "code",
   "execution_count": 9,
   "metadata": {},
   "outputs": [],
   "source": [
    "#define a function to find the optimal theta and the corresponding cost\n",
    "def trainLinearReg(X, y, lambd):\n",
    "    [m,n]=np.shape(X)\n",
    "    initial_theta = np.zeros((n), dtype=int)\n",
    "    result = opt.minimize(fun=linearRegCostFunction, x0=np.array(initial_theta), args=(X, y, lambd), method=\"TNC\", jac=Gradient)\n",
    "    return result"
   ]
  },
  {
   "cell_type": "code",
   "execution_count": 10,
   "metadata": {},
   "outputs": [],
   "source": [
    "thetaoptimal = trainLinearReg(X, y, 0)"
   ]
  },
  {
   "cell_type": "code",
   "execution_count": 11,
   "metadata": {},
   "outputs": [
    {
     "data": {
      "text/plain": [
       "     fun: 22.373906495108912\n",
       "     jac: matrix([[2.86637306e-09, 3.60160612e-08]])\n",
       " message: 'Local minimum reached (|pg| ~= 0)'\n",
       "    nfev: 9\n",
       "     nit: 4\n",
       "  status: 0\n",
       " success: True\n",
       "       x: array([13.08790351,  0.36777923])"
      ]
     },
     "execution_count": 11,
     "metadata": {},
     "output_type": "execute_result"
    }
   ],
   "source": [
    "thetaoptimal"
   ]
  },
  {
   "cell_type": "code",
   "execution_count": 12,
   "metadata": {},
   "outputs": [
    {
     "data": {
      "text/plain": [
       "22.373906495108912"
      ]
     },
     "execution_count": 12,
     "metadata": {},
     "output_type": "execute_result"
    }
   ],
   "source": [
    "result = linearRegCostFunction(thetaoptimal.x, X, y, 0)\n",
    "result"
   ]
  },
  {
   "cell_type": "code",
   "execution_count": 13,
   "metadata": {},
   "outputs": [],
   "source": [
    "# Learning cuves\n",
    "#Note: X is with a bias term in the input. All matrix\n",
    "def learningCurve(X, y, Xval, yval, lambd):\n",
    "    [m,n] = np.shape(X)\n",
    "    error_train = np.zeros((m, 1))\n",
    "    error_val = np.zeros((m, 1))\n",
    "    b=np.shape(yval)[0]\n",
    "    for i in range (1,m+1):\n",
    "        Xtrain = X[0:i, :]\n",
    "        ytrain = y[0:i, :]\n",
    "        t = trainLinearReg(Xtrain, ytrain, lambd).x\n",
    "        t = np.matrix(t)\n",
    "        J=sum(np.multiply((Xtrain*t.T-ytrain),(Xtrain*t.T-ytrain)))/(2*i)\n",
    "        error_train[i-1] = J\n",
    "        J=sum(np.multiply((Xval*t.T-yval),(Xval*t.T-yval)))/(2*b)\n",
    "        error_val[i-1] = J\n",
    "    return error_train[1:,:], error_val[1:,:]"
   ]
  },
  {
   "cell_type": "code",
   "execution_count": 14,
   "metadata": {},
   "outputs": [],
   "source": [
    "lambd = 0\n",
    "[m_val,n_val] = np.shape(Xval)\n",
    "additional_coulmnval = np.ones((m_val,1))\n",
    "Xval = np.append(additional_coulmnval,Xval,axis=1)\n",
    "[error_train, error_val] = learningCurve(X, y, Xval, yval, lambd)"
   ]
  },
  {
   "cell_type": "code",
   "execution_count": 15,
   "metadata": {},
   "outputs": [
    {
     "data": {
      "text/plain": [
       "array([[3.46657146e-09],\n",
       "       [3.28659505e+00],\n",
       "       [2.84267769e+00],\n",
       "       [1.31540488e+01],\n",
       "       [1.94439625e+01],\n",
       "       [2.00985217e+01],\n",
       "       [1.81728587e+01],\n",
       "       [2.26094054e+01],\n",
       "       [2.32614616e+01],\n",
       "       [2.43172496e+01],\n",
       "       [2.23739065e+01]])"
      ]
     },
     "execution_count": 15,
     "metadata": {},
     "output_type": "execute_result"
    }
   ],
   "source": [
    "error_train"
   ]
  },
  {
   "cell_type": "code",
   "execution_count": 16,
   "metadata": {},
   "outputs": [
    {
     "data": {
      "text/plain": [
       "array([[110.30264058],\n",
       "       [ 45.01023136],\n",
       "       [ 48.36891083],\n",
       "       [ 35.86516473],\n",
       "       [ 33.82996133],\n",
       "       [ 31.97098584],\n",
       "       [ 30.8624463 ],\n",
       "       [ 31.13599798],\n",
       "       [ 28.93620747],\n",
       "       [ 29.55143162],\n",
       "       [ 29.43381813]])"
      ]
     },
     "execution_count": 16,
     "metadata": {},
     "output_type": "execute_result"
    }
   ],
   "source": [
    "error_val"
   ]
  },
  {
   "cell_type": "code",
   "execution_count": 17,
   "metadata": {},
   "outputs": [
    {
     "data": {
      "image/png": "[encoded data removed]",
      "text/plain": [
       "<Figure size 432x288 with 1 Axes>"
      ]
     },
     "metadata": {
      "needs_background": "light"
     },
     "output_type": "display_data"
    }
   ],
   "source": [
    "plt.plot(error_train) \n",
    "plt.plot(error_val)\n",
    "plt.show()"
   ]
  },
  {
   "cell_type": "code",
   "execution_count": 18,
   "metadata": {},
   "outputs": [],
   "source": [
    "#define a poly feature function\n",
    "def polyFeatures(X, p):\n",
    "    X_poly = np.matrix(np.zeros((np.shape(X)[0], p)))\n",
    "    for i in range (1, p+1):\n",
    "        X_poly[:,i-1]=np.power(X,i)\n",
    "    return X_poly"
   ]
  },
  {
   "cell_type": "code",
   "execution_count": 19,
   "metadata": {},
   "outputs": [],
   "source": [
    "#define a feature normalisation function\n",
    "#Note: the sigma calculation is different to Matlab because this np.std is using /n while Matlab is using /(n-1)\n",
    "#So the result is slightly different\n",
    "def featureNormalize(X):\n",
    "    mu = np.mean(X, axis=0)\n",
    "    X_norm = X - mu\n",
    "    sigma = np.std(X_norm, axis=0)\n",
    "    X_norm = X_norm/sigma\n",
    "    return X_norm, mu, sigma"
   ]
  },
  {
   "cell_type": "code",
   "execution_count": 20,
   "metadata": {},
   "outputs": [],
   "source": [
    "#Load the .mat data using scipy.io, which will be a dictionary datatype.\n",
    "data_dict = scipy.io.loadmat('ex5/ex5data1.mat')\n",
    "X=data_dict['X']\n",
    "y=data_dict['y']\n",
    "X=np.matrix(X)\n",
    "y=np.matrix(y)\n",
    "Xval=data_dict['Xval']\n",
    "yval=data_dict['yval']\n",
    "Xval=np.matrix(Xval)\n",
    "yval=np.matrix(yval)\n",
    "Xtest=data_dict['Xtest']\n",
    "ytest=data_dict['ytest']\n",
    "Xtest=np.matrix(Xtest)\n",
    "ytest=np.matrix(ytest)\n",
    "\n",
    "#set up the new poly_x matrix with a degree of 8 and use feature normalisation and calculate the optimal theta\n",
    "p = 8\n",
    "#Map X onto Polynomial Features and Normalize\n",
    "X_poly = polyFeatures(X, p);\n",
    "[X_poly, mu, sigma] = featureNormalize(X_poly)\n",
    "m = np.shape(X_poly)[0]\n",
    "additional_coulmnforX_poly = np.ones((m,1))\n",
    "X_poly = np.append(additional_coulmnforX_poly,X_poly,axis=1)\n",
    "X_poly = np.matrix(X_poly)"
   ]
  },
  {
   "cell_type": "code",
   "execution_count": 21,
   "metadata": {},
   "outputs": [],
   "source": [
    "X_poly_test = polyFeatures(Xtest, p);\n",
    "[X_poly_test, mu_test, sigma_test] = featureNormalize(X_poly_test) \n",
    "m = np.shape(X_poly_test)[0]\n",
    "additional_coulmnforX_poly_test = np.ones((m,1))\n",
    "X_poly_test = np.append(additional_coulmnforX_poly_test,X_poly_test,axis=1)"
   ]
  },
  {
   "cell_type": "code",
   "execution_count": 22,
   "metadata": {},
   "outputs": [],
   "source": [
    "X_poly_val = polyFeatures(Xval, p);\n",
    "[X_poly_val, mu_val, sigma_val] = featureNormalize(X_poly_val) \n",
    "m = np.shape(X_poly_val)[0]\n",
    "additional_coulmnforX_poly_val = np.ones((m,1))\n",
    "X_poly_val = np.append(additional_coulmnforX_poly_val,X_poly_val,axis=1)"
   ]
  },
  {
   "cell_type": "code",
   "execution_count": 23,
   "metadata": {},
   "outputs": [
    {
     "data": {
      "text/plain": [
       "     fun: 0.039197213538362266\n",
       "     jac: matrix([[ 0.00296534, -0.00947072,  0.00084651,  0.00336073, -0.00330154,\n",
       "          0.002008  , -0.00189226, -0.00018057, -0.00047766]])\n",
       " message: 'Max. number of function evaluations reached'\n",
       "    nfev: 100\n",
       "     nit: 22\n",
       "  status: 3\n",
       " success: False\n",
       "       x: array([ 11.22055467,   9.23855578,  19.84166063,  24.53522072,\n",
       "       -35.47618272, -58.43326547,  24.85347336,  45.60494138,\n",
       "         5.82947323])"
      ]
     },
     "execution_count": 23,
     "metadata": {},
     "output_type": "execute_result"
    }
   ],
   "source": [
    "lambd = 0\n",
    "trainLinearReg(X_poly, y, lambd)"
   ]
  },
  {
   "cell_type": "code",
   "execution_count": 24,
   "metadata": {},
   "outputs": [],
   "source": [
    "lambd = 0\n",
    "\n",
    "[error_train, error_val] = learningCurve(X_poly, y, X_poly_val, yval, lambd)"
   ]
  },
  {
   "cell_type": "code",
   "execution_count": 25,
   "metadata": {},
   "outputs": [
    {
     "data": {
      "image/png": "[encoded data removed]",
      "text/plain": [
       "<Figure size 432x288 with 1 Axes>"
      ]
     },
     "metadata": {
      "needs_background": "light"
     },
     "output_type": "display_data"
    }
   ],
   "source": [
    "plt.plot(error_train) \n",
    "plt.plot(error_val)\n",
    "plt.show()"
   ]
  },
  {
   "cell_type": "code",
   "execution_count": 26,
   "metadata": {},
   "outputs": [],
   "source": [
    "lambd = 1\n",
    "\n",
    "[error_train, error_val] = learningCurve(X_poly, y, X_poly_val, yval, lambd)"
   ]
  },
  {
   "cell_type": "code",
   "execution_count": 27,
   "metadata": {},
   "outputs": [
    {
     "data": {
      "image/png": "[encoded data removed]",
      "text/plain": [
       "<Figure size 432x288 with 1 Axes>"
      ]
     },
     "metadata": {
      "needs_background": "light"
     },
     "output_type": "display_data"
    }
   ],
   "source": [
    "plt.plot(error_train) \n",
    "plt.plot(error_val)\n",
    "plt.show()"
   ]
  },
  {
   "cell_type": "code",
   "execution_count": 28,
   "metadata": {},
   "outputs": [],
   "source": [
    "lambd = 100\n",
    "\n",
    "[error_train, error_val] = learningCurve(X_poly, y, X_poly_val, yval, lambd)"
   ]
  },
  {
   "cell_type": "code",
   "execution_count": 29,
   "metadata": {},
   "outputs": [
    {
     "data": {
      "image/png": "[encoded data removed]",
      "text/plain": [
       "<Figure size 432x288 with 1 Axes>"
      ]
     },
     "metadata": {
      "needs_background": "light"
     },
     "output_type": "display_data"
    }
   ],
   "source": [
    "plt.plot(error_train) \n",
    "plt.plot(error_val)\n",
    "plt.show()"
   ]
  },
  {
   "cell_type": "code",
   "execution_count": 30,
   "metadata": {},
   "outputs": [],
   "source": [
    "def validationCurve(X, y, Xval, yval):\n",
    "    lambda_vec = [0,0.001,0.003,0.01,0.03,0.1,0.3,1,3,10]\n",
    "    error_train = np.zeros((np.shape(lambda_vec)[0], 1))\n",
    "    error_val = np.zeros((np.shape(lambda_vec)[0], 1))\n",
    "    m = np.shape(X)[0]\n",
    "    b = np.shape(yval)[0]\n",
    "    for i in range(1, np.shape(lambda_vec)[0]+1):\n",
    "        t=trainLinearReg(X, y, lambda_vec[i-1]).x\n",
    "        t = np.matrix(t)\n",
    "        J=np.sum(np.multiply((X*t.T-y),(X*t.T-y)))/(2*m)\n",
    "        error_train[i-1] = J\n",
    "        J=np.sum(np.multiply((Xval*t.T-yval),(Xval*t.T-yval)))/(2*b)\n",
    "        error_val[i-1] = J\n",
    "    return error_train, error_val"
   ]
  },
  {
   "cell_type": "code",
   "execution_count": 31,
   "metadata": {},
   "outputs": [],
   "source": [
    "[error_train, error_val] = validationCurve(X_poly, y, X_poly_val, yval)"
   ]
  },
  {
   "cell_type": "code",
   "execution_count": 32,
   "metadata": {},
   "outputs": [
    {
     "data": {
      "image/png": "[encoded data removed]",
      "text/plain": [
       "<Figure size 432x288 with 1 Axes>"
      ]
     },
     "metadata": {
      "needs_background": "light"
     },
     "output_type": "display_data"
    }
   ],
   "source": [
    "plt.plot(error_train) \n",
    "plt.plot(error_val)\n",
    "plt.show()"
   ]
  },
  {
   "cell_type": "code",
   "execution_count": null,
   "metadata": {},
   "outputs": [],
   "source": []
  }
 ],
 "metadata": {
  "kernelspec": {
   "display_name": "Python 3",
   "language": "python",
   "name": "python3"
  },
  "language_info": {
   "codemirror_mode": {
    "name": "ipython",
    "version": 3
   },
   "file_extension": ".py",
   "mimetype": "text/x-python",
   "name": "python",
   "nbconvert_exporter": "python",
   "pygments_lexer": "ipython3",
   "version": "3.8.3"
  }
 },
 "nbformat": 4,
 "nbformat_minor": 4
}
